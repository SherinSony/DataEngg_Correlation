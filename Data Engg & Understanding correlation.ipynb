{
 "cells": [
  {
   "cell_type": "code",
   "execution_count": 122,
   "metadata": {},
   "outputs": [],
   "source": [
    "import pandas as pd\n",
    "import datetime as dt"
   ]
  },
  {
   "cell_type": "code",
   "execution_count": 123,
   "metadata": {},
   "outputs": [],
   "source": [
    "df=pd.read_csv(r\"D:\\nyc-rolling-sales_clean.csv\")"
   ]
  },
  {
   "cell_type": "code",
   "execution_count": 124,
   "metadata": {},
   "outputs": [
    {
     "data": {
      "text/html": [
       "<div>\n",
       "<style scoped>\n",
       "    .dataframe tbody tr th:only-of-type {\n",
       "        vertical-align: middle;\n",
       "    }\n",
       "\n",
       "    .dataframe tbody tr th {\n",
       "        vertical-align: top;\n",
       "    }\n",
       "\n",
       "    .dataframe thead th {\n",
       "        text-align: right;\n",
       "    }\n",
       "</style>\n",
       "<table border=\"1\" class=\"dataframe\">\n",
       "  <thead>\n",
       "    <tr style=\"text-align: right;\">\n",
       "      <th></th>\n",
       "      <th>TAX CLASS AT PRESENT</th>\n",
       "      <th>BLOCK</th>\n",
       "      <th>LOT</th>\n",
       "      <th>ZIP CODE</th>\n",
       "      <th>RESIDENTIAL UNITS</th>\n",
       "      <th>COMMERCIAL UNITS</th>\n",
       "      <th>TOTAL UNITS</th>\n",
       "      <th>LAND SQUARE FEET</th>\n",
       "      <th>GROSS SQUARE FEET</th>\n",
       "      <th>YEAR BUILT</th>\n",
       "      <th>SALE PRICE</th>\n",
       "    </tr>\n",
       "  </thead>\n",
       "  <tbody>\n",
       "    <tr>\n",
       "      <th>count</th>\n",
       "      <td>42,692.00</td>\n",
       "      <td>42,692.00</td>\n",
       "      <td>42,692.00</td>\n",
       "      <td>42,692.00</td>\n",
       "      <td>42,692.00</td>\n",
       "      <td>42,692.00</td>\n",
       "      <td>42,692.00</td>\n",
       "      <td>42,692.00</td>\n",
       "      <td>42,692.00</td>\n",
       "      <td>42,692.00</td>\n",
       "      <td>42,692.00</td>\n",
       "    </tr>\n",
       "    <tr>\n",
       "      <th>mean</th>\n",
       "      <td>1.43</td>\n",
       "      <td>5,178.71</td>\n",
       "      <td>203.67</td>\n",
       "      <td>10,998.21</td>\n",
       "      <td>2.52</td>\n",
       "      <td>0.26</td>\n",
       "      <td>2.80</td>\n",
       "      <td>3,579.19</td>\n",
       "      <td>3,851.48</td>\n",
       "      <td>1,865.09</td>\n",
       "      <td>1,175,657.91</td>\n",
       "    </tr>\n",
       "    <tr>\n",
       "      <th>std</th>\n",
       "      <td>0.86</td>\n",
       "      <td>3,485.08</td>\n",
       "      <td>476.30</td>\n",
       "      <td>673.08</td>\n",
       "      <td>18.54</td>\n",
       "      <td>11.68</td>\n",
       "      <td>22.04</td>\n",
       "      <td>33,390.81</td>\n",
       "      <td>31,313.03</td>\n",
       "      <td>387.22</td>\n",
       "      <td>14,205,298.85</td>\n",
       "    </tr>\n",
       "    <tr>\n",
       "      <th>min</th>\n",
       "      <td>1.00</td>\n",
       "      <td>1.00</td>\n",
       "      <td>1.00</td>\n",
       "      <td>0.00</td>\n",
       "      <td>0.00</td>\n",
       "      <td>0.00</td>\n",
       "      <td>0.00</td>\n",
       "      <td>0.00</td>\n",
       "      <td>0.00</td>\n",
       "      <td>0.00</td>\n",
       "      <td>0.00</td>\n",
       "    </tr>\n",
       "    <tr>\n",
       "      <th>25%</th>\n",
       "      <td>1.00</td>\n",
       "      <td>2,371.00</td>\n",
       "      <td>21.00</td>\n",
       "      <td>10,469.00</td>\n",
       "      <td>1.00</td>\n",
       "      <td>0.00</td>\n",
       "      <td>1.00</td>\n",
       "      <td>1,600.00</td>\n",
       "      <td>1,031.00</td>\n",
       "      <td>1,920.00</td>\n",
       "      <td>127,281.00</td>\n",
       "    </tr>\n",
       "    <tr>\n",
       "      <th>50%</th>\n",
       "      <td>1.00</td>\n",
       "      <td>4,856.50</td>\n",
       "      <td>44.00</td>\n",
       "      <td>11,217.00</td>\n",
       "      <td>1.00</td>\n",
       "      <td>0.00</td>\n",
       "      <td>1.00</td>\n",
       "      <td>2,200.00</td>\n",
       "      <td>1,624.00</td>\n",
       "      <td>1,931.00</td>\n",
       "      <td>478,000.00</td>\n",
       "    </tr>\n",
       "    <tr>\n",
       "      <th>75%</th>\n",
       "      <td>2.00</td>\n",
       "      <td>7,266.25</td>\n",
       "      <td>82.00</td>\n",
       "      <td>11,249.00</td>\n",
       "      <td>2.00</td>\n",
       "      <td>0.00</td>\n",
       "      <td>2.00</td>\n",
       "      <td>3,300.00</td>\n",
       "      <td>2,400.00</td>\n",
       "      <td>1,961.00</td>\n",
       "      <td>800,000.00</td>\n",
       "    </tr>\n",
       "    <tr>\n",
       "      <th>max</th>\n",
       "      <td>4.00</td>\n",
       "      <td>16,319.00</td>\n",
       "      <td>9,009.00</td>\n",
       "      <td>11,694.00</td>\n",
       "      <td>1,844.00</td>\n",
       "      <td>2,261.00</td>\n",
       "      <td>2,261.00</td>\n",
       "      <td>4,228,300.00</td>\n",
       "      <td>3,750,565.00</td>\n",
       "      <td>2,017.00</td>\n",
       "      <td>2,210,000,000.00</td>\n",
       "    </tr>\n",
       "  </tbody>\n",
       "</table>\n",
       "</div>"
      ],
      "text/plain": [
       "       TAX CLASS AT PRESENT                BLOCK                  LOT  \\\n",
       "count             42,692.00            42,692.00            42,692.00   \n",
       "mean                   1.43             5,178.71               203.67   \n",
       "std                    0.86             3,485.08               476.30   \n",
       "min                    1.00                 1.00                 1.00   \n",
       "25%                    1.00             2,371.00                21.00   \n",
       "50%                    1.00             4,856.50                44.00   \n",
       "75%                    2.00             7,266.25                82.00   \n",
       "max                    4.00            16,319.00             9,009.00   \n",
       "\n",
       "                  ZIP CODE    RESIDENTIAL UNITS     COMMERCIAL UNITS  \\\n",
       "count            42,692.00            42,692.00            42,692.00   \n",
       "mean             10,998.21                 2.52                 0.26   \n",
       "std                 673.08                18.54                11.68   \n",
       "min                   0.00                 0.00                 0.00   \n",
       "25%              10,469.00                 1.00                 0.00   \n",
       "50%              11,217.00                 1.00                 0.00   \n",
       "75%              11,249.00                 2.00                 0.00   \n",
       "max              11,694.00             1,844.00             2,261.00   \n",
       "\n",
       "               TOTAL UNITS     LAND SQUARE FEET    GROSS SQUARE FEET  \\\n",
       "count            42,692.00            42,692.00            42,692.00   \n",
       "mean                  2.80             3,579.19             3,851.48   \n",
       "std                  22.04            33,390.81            31,313.03   \n",
       "min                   0.00                 0.00                 0.00   \n",
       "25%                   1.00             1,600.00             1,031.00   \n",
       "50%                   1.00             2,200.00             1,624.00   \n",
       "75%                   2.00             3,300.00             2,400.00   \n",
       "max               2,261.00         4,228,300.00         3,750,565.00   \n",
       "\n",
       "                YEAR BUILT           SALE PRICE  \n",
       "count            42,692.00            42,692.00  \n",
       "mean              1,865.09         1,175,657.91  \n",
       "std                 387.22        14,205,298.85  \n",
       "min                   0.00                 0.00  \n",
       "25%               1,920.00           127,281.00  \n",
       "50%               1,931.00           478,000.00  \n",
       "75%               1,961.00           800,000.00  \n",
       "max               2,017.00     2,210,000,000.00  "
      ]
     },
     "execution_count": 124,
     "metadata": {},
     "output_type": "execute_result"
    }
   ],
   "source": [
    "df.describe()"
   ]
  },
  {
   "cell_type": "code",
   "execution_count": 125,
   "metadata": {},
   "outputs": [
    {
     "name": "stdout",
     "output_type": "stream",
     "text": [
      "<class 'pandas.core.frame.DataFrame'>\n",
      "RangeIndex: 42692 entries, 0 to 42691\n",
      "Data columns (total 16 columns):\n",
      "NEIGHBORHOOD                 42692 non-null object\n",
      "BUILDING CLASS CATEGORY      42692 non-null object\n",
      "TAX CLASS AT PRESENT         42692 non-null int64\n",
      "BLOCK                        42692 non-null int64\n",
      "LOT                          42692 non-null int64\n",
      "BUILDING CLASS AT PRESENT    42692 non-null object\n",
      "ADDRESS                      42692 non-null object\n",
      "ZIP CODE                     42692 non-null int64\n",
      "RESIDENTIAL UNITS            42692 non-null int64\n",
      "COMMERCIAL UNITS             42692 non-null int64\n",
      "TOTAL UNITS                  42692 non-null int64\n",
      "LAND SQUARE FEET             42692 non-null int64\n",
      "GROSS SQUARE FEET            42692 non-null int64\n",
      "YEAR BUILT                   42692 non-null int64\n",
      "SALE PRICE                   42692 non-null int64\n",
      "SALE DATE                    42692 non-null object\n",
      "dtypes: int64(11), object(5)\n",
      "memory usage: 5.2+ MB\n"
     ]
    }
   ],
   "source": [
    "df.info()"
   ]
  },
  {
   "cell_type": "code",
   "execution_count": 126,
   "metadata": {
    "scrolled": true
   },
   "outputs": [
    {
     "data": {
      "text/html": [
       "<div>\n",
       "<style scoped>\n",
       "    .dataframe tbody tr th:only-of-type {\n",
       "        vertical-align: middle;\n",
       "    }\n",
       "\n",
       "    .dataframe tbody tr th {\n",
       "        vertical-align: top;\n",
       "    }\n",
       "\n",
       "    .dataframe thead th {\n",
       "        text-align: right;\n",
       "    }\n",
       "</style>\n",
       "<table border=\"1\" class=\"dataframe\">\n",
       "  <thead>\n",
       "    <tr style=\"text-align: right;\">\n",
       "      <th></th>\n",
       "      <th>NEIGHBORHOOD</th>\n",
       "      <th>BUILDING CLASS CATEGORY</th>\n",
       "      <th>TAX CLASS AT PRESENT</th>\n",
       "      <th>BLOCK</th>\n",
       "      <th>LOT</th>\n",
       "      <th>BUILDING CLASS AT PRESENT</th>\n",
       "      <th>ADDRESS</th>\n",
       "      <th>ZIP CODE</th>\n",
       "      <th>RESIDENTIAL UNITS</th>\n",
       "      <th>COMMERCIAL UNITS</th>\n",
       "      <th>TOTAL UNITS</th>\n",
       "      <th>LAND SQUARE FEET</th>\n",
       "      <th>GROSS SQUARE FEET</th>\n",
       "      <th>YEAR BUILT</th>\n",
       "      <th>SALE PRICE</th>\n",
       "      <th>SALE DATE</th>\n",
       "    </tr>\n",
       "  </thead>\n",
       "  <tbody>\n",
       "    <tr>\n",
       "      <th>0</th>\n",
       "      <td>ALPHABET CITY</td>\n",
       "      <td>08 RENTALS - ELEVATOR APARTMENTS</td>\n",
       "      <td>2</td>\n",
       "      <td>387</td>\n",
       "      <td>153</td>\n",
       "      <td>D9</td>\n",
       "      <td>629 EAST 5TH STREET</td>\n",
       "      <td>10009</td>\n",
       "      <td>24</td>\n",
       "      <td>0</td>\n",
       "      <td>24</td>\n",
       "      <td>4489</td>\n",
       "      <td>18523</td>\n",
       "      <td>1920</td>\n",
       "      <td>16232000</td>\n",
       "      <td>2016-11-07 00:00:00</td>\n",
       "    </tr>\n",
       "    <tr>\n",
       "      <th>1</th>\n",
       "      <td>ALPHABET CITY</td>\n",
       "      <td>09 COOPS - WALKUP APARTMENTS</td>\n",
       "      <td>2</td>\n",
       "      <td>376</td>\n",
       "      <td>14</td>\n",
       "      <td>C6</td>\n",
       "      <td>244 EAST 7TH STREET</td>\n",
       "      <td>10009</td>\n",
       "      <td>24</td>\n",
       "      <td>0</td>\n",
       "      <td>24</td>\n",
       "      <td>4131</td>\n",
       "      <td>16776</td>\n",
       "      <td>1928</td>\n",
       "      <td>11900000</td>\n",
       "      <td>2017-06-21 00:00:00</td>\n",
       "    </tr>\n",
       "    <tr>\n",
       "      <th>2</th>\n",
       "      <td>ALPHABET CITY</td>\n",
       "      <td>22 STORE BUILDINGS</td>\n",
       "      <td>4</td>\n",
       "      <td>390</td>\n",
       "      <td>34</td>\n",
       "      <td>K4</td>\n",
       "      <td>115 AVENUE C</td>\n",
       "      <td>10009</td>\n",
       "      <td>0</td>\n",
       "      <td>1</td>\n",
       "      <td>1</td>\n",
       "      <td>1218</td>\n",
       "      <td>3586</td>\n",
       "      <td>1899</td>\n",
       "      <td>3700000</td>\n",
       "      <td>2016-09-28 00:00:00</td>\n",
       "    </tr>\n",
       "    <tr>\n",
       "      <th>3</th>\n",
       "      <td>CHELSEA</td>\n",
       "      <td>01 ONE FAMILY DWELLINGS</td>\n",
       "      <td>1</td>\n",
       "      <td>771</td>\n",
       "      <td>52</td>\n",
       "      <td>A9</td>\n",
       "      <td>224 WEST 22ND   STREET</td>\n",
       "      <td>10011</td>\n",
       "      <td>1</td>\n",
       "      <td>0</td>\n",
       "      <td>1</td>\n",
       "      <td>1975</td>\n",
       "      <td>3855</td>\n",
       "      <td>1901</td>\n",
       "      <td>7425000</td>\n",
       "      <td>2016-12-30 00:00:00</td>\n",
       "    </tr>\n",
       "    <tr>\n",
       "      <th>4</th>\n",
       "      <td>CHELSEA</td>\n",
       "      <td>01 ONE FAMILY DWELLINGS</td>\n",
       "      <td>1</td>\n",
       "      <td>772</td>\n",
       "      <td>29</td>\n",
       "      <td>A4</td>\n",
       "      <td>231 WEST 22ND   STREET</td>\n",
       "      <td>10011</td>\n",
       "      <td>1</td>\n",
       "      <td>0</td>\n",
       "      <td>1</td>\n",
       "      <td>1588</td>\n",
       "      <td>5653</td>\n",
       "      <td>1900</td>\n",
       "      <td>10</td>\n",
       "      <td>2017-01-30 00:00:00</td>\n",
       "    </tr>\n",
       "  </tbody>\n",
       "</table>\n",
       "</div>"
      ],
      "text/plain": [
       "    NEIGHBORHOOD                      BUILDING CLASS CATEGORY  \\\n",
       "0  ALPHABET CITY  08 RENTALS - ELEVATOR APARTMENTS              \n",
       "1  ALPHABET CITY  09 COOPS - WALKUP APARTMENTS                  \n",
       "2  ALPHABET CITY  22 STORE BUILDINGS                            \n",
       "3        CHELSEA  01 ONE FAMILY DWELLINGS                       \n",
       "4        CHELSEA  01 ONE FAMILY DWELLINGS                       \n",
       "\n",
       "   TAX CLASS AT PRESENT  BLOCK  LOT BUILDING CLASS AT PRESENT  \\\n",
       "0                     2    387  153                        D9   \n",
       "1                     2    376   14                        C6   \n",
       "2                     4    390   34                        K4   \n",
       "3                     1    771   52                        A9   \n",
       "4                     1    772   29                        A4   \n",
       "\n",
       "                  ADDRESS  ZIP CODE  RESIDENTIAL UNITS  COMMERCIAL UNITS  \\\n",
       "0     629 EAST 5TH STREET     10009                 24                 0   \n",
       "1     244 EAST 7TH STREET     10009                 24                 0   \n",
       "2            115 AVENUE C     10009                  0                 1   \n",
       "3  224 WEST 22ND   STREET     10011                  1                 0   \n",
       "4  231 WEST 22ND   STREET     10011                  1                 0   \n",
       "\n",
       "   TOTAL UNITS  LAND SQUARE FEET  GROSS SQUARE FEET  YEAR BUILT  SALE PRICE  \\\n",
       "0           24              4489              18523        1920    16232000   \n",
       "1           24              4131              16776        1928    11900000   \n",
       "2            1              1218               3586        1899     3700000   \n",
       "3            1              1975               3855        1901     7425000   \n",
       "4            1              1588               5653        1900          10   \n",
       "\n",
       "             SALE DATE  \n",
       "0  2016-11-07 00:00:00  \n",
       "1  2017-06-21 00:00:00  \n",
       "2  2016-09-28 00:00:00  \n",
       "3  2016-12-30 00:00:00  \n",
       "4  2017-01-30 00:00:00  "
      ]
     },
     "execution_count": 126,
     "metadata": {},
     "output_type": "execute_result"
    }
   ],
   "source": [
    "df.head(5)"
   ]
  },
  {
   "cell_type": "markdown",
   "metadata": {},
   "source": [
    "# -------------Part 1: Feature Engineering-----------------"
   ]
  },
  {
   "cell_type": "markdown",
   "metadata": {},
   "source": [
    "# Create a new column \"year of sale\" by extracting year information from \"SALE DATE\" column."
   ]
  },
  {
   "cell_type": "code",
   "execution_count": 127,
   "metadata": {},
   "outputs": [
    {
     "data": {
      "text/plain": [
       "0    2016-11-07 00:00:00\n",
       "1    2017-06-21 00:00:00\n",
       "2    2016-09-28 00:00:00\n",
       "3    2016-12-30 00:00:00\n",
       "4    2017-01-30 00:00:00\n",
       "5    2017-01-30 00:00:00\n",
       "6    2017-01-30 00:00:00\n",
       "7    2017-04-17 00:00:00\n",
       "8    2017-02-02 00:00:00\n",
       "9    2017-02-06 00:00:00\n",
       "Name: SALE DATE, dtype: object"
      ]
     },
     "execution_count": 127,
     "metadata": {},
     "output_type": "execute_result"
    }
   ],
   "source": [
    "df[\"SALE DATE\"].head(10)"
   ]
  },
  {
   "cell_type": "code",
   "execution_count": 128,
   "metadata": {},
   "outputs": [],
   "source": [
    "df['datetimeindex']=pd.DatetimeIndex(df[\"SALE DATE\"]).year #method 1"
   ]
  },
  {
   "cell_type": "code",
   "execution_count": 129,
   "metadata": {},
   "outputs": [],
   "source": [
    "df[\"todatetime\"]=pd.DatetimeIndex(pd.to_datetime(df[\"SALE DATE\"],format='%Y-%m-%d')).year  #method 2"
   ]
  },
  {
   "cell_type": "code",
   "execution_count": 130,
   "metadata": {},
   "outputs": [
    {
     "data": {
      "text/html": [
       "<div>\n",
       "<style scoped>\n",
       "    .dataframe tbody tr th:only-of-type {\n",
       "        vertical-align: middle;\n",
       "    }\n",
       "\n",
       "    .dataframe tbody tr th {\n",
       "        vertical-align: top;\n",
       "    }\n",
       "\n",
       "    .dataframe thead th {\n",
       "        text-align: right;\n",
       "    }\n",
       "</style>\n",
       "<table border=\"1\" class=\"dataframe\">\n",
       "  <thead>\n",
       "    <tr style=\"text-align: right;\">\n",
       "      <th></th>\n",
       "      <th>NEIGHBORHOOD</th>\n",
       "      <th>BUILDING CLASS CATEGORY</th>\n",
       "      <th>TAX CLASS AT PRESENT</th>\n",
       "      <th>BLOCK</th>\n",
       "      <th>LOT</th>\n",
       "      <th>BUILDING CLASS AT PRESENT</th>\n",
       "      <th>ADDRESS</th>\n",
       "      <th>ZIP CODE</th>\n",
       "      <th>RESIDENTIAL UNITS</th>\n",
       "      <th>COMMERCIAL UNITS</th>\n",
       "      <th>TOTAL UNITS</th>\n",
       "      <th>LAND SQUARE FEET</th>\n",
       "      <th>GROSS SQUARE FEET</th>\n",
       "      <th>YEAR BUILT</th>\n",
       "      <th>SALE PRICE</th>\n",
       "      <th>SALE DATE</th>\n",
       "      <th>datetimeindex</th>\n",
       "      <th>todatetime</th>\n",
       "    </tr>\n",
       "  </thead>\n",
       "  <tbody>\n",
       "  </tbody>\n",
       "</table>\n",
       "</div>"
      ],
      "text/plain": [
       "Empty DataFrame\n",
       "Columns: [NEIGHBORHOOD, BUILDING CLASS CATEGORY, TAX CLASS AT PRESENT, BLOCK, LOT, BUILDING CLASS AT PRESENT, ADDRESS, ZIP CODE, RESIDENTIAL UNITS, COMMERCIAL UNITS, TOTAL UNITS, LAND SQUARE FEET, GROSS SQUARE FEET, YEAR BUILT, SALE PRICE, SALE DATE, datetimeindex, todatetime]\n",
       "Index: []"
      ]
     },
     "execution_count": 130,
     "metadata": {},
     "output_type": "execute_result"
    }
   ],
   "source": [
    "df.query('datetimeindex!=todatetime') #both yield same results"
   ]
  },
  {
   "cell_type": "code",
   "execution_count": 131,
   "metadata": {},
   "outputs": [],
   "source": [
    "df[\"year of sale\"]=pd.DatetimeIndex(pd.to_datetime(df[\"SALE DATE\"],format='%Y-%m-%d')).year "
   ]
  },
  {
   "cell_type": "code",
   "execution_count": 132,
   "metadata": {
    "scrolled": true
   },
   "outputs": [
    {
     "data": {
      "text/html": [
       "<div>\n",
       "<style scoped>\n",
       "    .dataframe tbody tr th:only-of-type {\n",
       "        vertical-align: middle;\n",
       "    }\n",
       "\n",
       "    .dataframe tbody tr th {\n",
       "        vertical-align: top;\n",
       "    }\n",
       "\n",
       "    .dataframe thead th {\n",
       "        text-align: right;\n",
       "    }\n",
       "</style>\n",
       "<table border=\"1\" class=\"dataframe\">\n",
       "  <thead>\n",
       "    <tr style=\"text-align: right;\">\n",
       "      <th></th>\n",
       "      <th>SALE DATE</th>\n",
       "      <th>year of sale</th>\n",
       "    </tr>\n",
       "  </thead>\n",
       "  <tbody>\n",
       "    <tr>\n",
       "      <th>0</th>\n",
       "      <td>2016-11-07 00:00:00</td>\n",
       "      <td>2016</td>\n",
       "    </tr>\n",
       "    <tr>\n",
       "      <th>1</th>\n",
       "      <td>2017-06-21 00:00:00</td>\n",
       "      <td>2017</td>\n",
       "    </tr>\n",
       "    <tr>\n",
       "      <th>2</th>\n",
       "      <td>2016-09-28 00:00:00</td>\n",
       "      <td>2016</td>\n",
       "    </tr>\n",
       "    <tr>\n",
       "      <th>3</th>\n",
       "      <td>2016-12-30 00:00:00</td>\n",
       "      <td>2016</td>\n",
       "    </tr>\n",
       "    <tr>\n",
       "      <th>4</th>\n",
       "      <td>2017-01-30 00:00:00</td>\n",
       "      <td>2017</td>\n",
       "    </tr>\n",
       "  </tbody>\n",
       "</table>\n",
       "</div>"
      ],
      "text/plain": [
       "             SALE DATE  year of sale\n",
       "0  2016-11-07 00:00:00          2016\n",
       "1  2017-06-21 00:00:00          2017\n",
       "2  2016-09-28 00:00:00          2016\n",
       "3  2016-12-30 00:00:00          2016\n",
       "4  2017-01-30 00:00:00          2017"
      ]
     },
     "execution_count": 132,
     "metadata": {},
     "output_type": "execute_result"
    }
   ],
   "source": [
    "df[['SALE DATE','year of sale']].head(5)"
   ]
  },
  {
   "cell_type": "markdown",
   "metadata": {},
   "source": [
    "# Drop the \"SALE DATE\" column"
   ]
  },
  {
   "cell_type": "code",
   "execution_count": 133,
   "metadata": {},
   "outputs": [],
   "source": [
    "df.drop(['SALE DATE','datetimeindex','todatetime'],inplace=True, axis=1)"
   ]
  },
  {
   "cell_type": "code",
   "execution_count": 134,
   "metadata": {},
   "outputs": [
    {
     "data": {
      "text/html": [
       "<div>\n",
       "<style scoped>\n",
       "    .dataframe tbody tr th:only-of-type {\n",
       "        vertical-align: middle;\n",
       "    }\n",
       "\n",
       "    .dataframe tbody tr th {\n",
       "        vertical-align: top;\n",
       "    }\n",
       "\n",
       "    .dataframe thead th {\n",
       "        text-align: right;\n",
       "    }\n",
       "</style>\n",
       "<table border=\"1\" class=\"dataframe\">\n",
       "  <thead>\n",
       "    <tr style=\"text-align: right;\">\n",
       "      <th></th>\n",
       "      <th>NEIGHBORHOOD</th>\n",
       "      <th>BUILDING CLASS CATEGORY</th>\n",
       "      <th>TAX CLASS AT PRESENT</th>\n",
       "      <th>BLOCK</th>\n",
       "      <th>LOT</th>\n",
       "      <th>BUILDING CLASS AT PRESENT</th>\n",
       "      <th>ADDRESS</th>\n",
       "      <th>ZIP CODE</th>\n",
       "      <th>RESIDENTIAL UNITS</th>\n",
       "      <th>COMMERCIAL UNITS</th>\n",
       "      <th>TOTAL UNITS</th>\n",
       "      <th>LAND SQUARE FEET</th>\n",
       "      <th>GROSS SQUARE FEET</th>\n",
       "      <th>YEAR BUILT</th>\n",
       "      <th>SALE PRICE</th>\n",
       "      <th>year of sale</th>\n",
       "    </tr>\n",
       "  </thead>\n",
       "  <tbody>\n",
       "    <tr>\n",
       "      <th>0</th>\n",
       "      <td>ALPHABET CITY</td>\n",
       "      <td>08 RENTALS - ELEVATOR APARTMENTS</td>\n",
       "      <td>2</td>\n",
       "      <td>387</td>\n",
       "      <td>153</td>\n",
       "      <td>D9</td>\n",
       "      <td>629 EAST 5TH STREET</td>\n",
       "      <td>10009</td>\n",
       "      <td>24</td>\n",
       "      <td>0</td>\n",
       "      <td>24</td>\n",
       "      <td>4489</td>\n",
       "      <td>18523</td>\n",
       "      <td>1920</td>\n",
       "      <td>16232000</td>\n",
       "      <td>2016</td>\n",
       "    </tr>\n",
       "    <tr>\n",
       "      <th>1</th>\n",
       "      <td>ALPHABET CITY</td>\n",
       "      <td>09 COOPS - WALKUP APARTMENTS</td>\n",
       "      <td>2</td>\n",
       "      <td>376</td>\n",
       "      <td>14</td>\n",
       "      <td>C6</td>\n",
       "      <td>244 EAST 7TH STREET</td>\n",
       "      <td>10009</td>\n",
       "      <td>24</td>\n",
       "      <td>0</td>\n",
       "      <td>24</td>\n",
       "      <td>4131</td>\n",
       "      <td>16776</td>\n",
       "      <td>1928</td>\n",
       "      <td>11900000</td>\n",
       "      <td>2017</td>\n",
       "    </tr>\n",
       "    <tr>\n",
       "      <th>2</th>\n",
       "      <td>ALPHABET CITY</td>\n",
       "      <td>22 STORE BUILDINGS</td>\n",
       "      <td>4</td>\n",
       "      <td>390</td>\n",
       "      <td>34</td>\n",
       "      <td>K4</td>\n",
       "      <td>115 AVENUE C</td>\n",
       "      <td>10009</td>\n",
       "      <td>0</td>\n",
       "      <td>1</td>\n",
       "      <td>1</td>\n",
       "      <td>1218</td>\n",
       "      <td>3586</td>\n",
       "      <td>1899</td>\n",
       "      <td>3700000</td>\n",
       "      <td>2016</td>\n",
       "    </tr>\n",
       "    <tr>\n",
       "      <th>3</th>\n",
       "      <td>CHELSEA</td>\n",
       "      <td>01 ONE FAMILY DWELLINGS</td>\n",
       "      <td>1</td>\n",
       "      <td>771</td>\n",
       "      <td>52</td>\n",
       "      <td>A9</td>\n",
       "      <td>224 WEST 22ND   STREET</td>\n",
       "      <td>10011</td>\n",
       "      <td>1</td>\n",
       "      <td>0</td>\n",
       "      <td>1</td>\n",
       "      <td>1975</td>\n",
       "      <td>3855</td>\n",
       "      <td>1901</td>\n",
       "      <td>7425000</td>\n",
       "      <td>2016</td>\n",
       "    </tr>\n",
       "    <tr>\n",
       "      <th>4</th>\n",
       "      <td>CHELSEA</td>\n",
       "      <td>01 ONE FAMILY DWELLINGS</td>\n",
       "      <td>1</td>\n",
       "      <td>772</td>\n",
       "      <td>29</td>\n",
       "      <td>A4</td>\n",
       "      <td>231 WEST 22ND   STREET</td>\n",
       "      <td>10011</td>\n",
       "      <td>1</td>\n",
       "      <td>0</td>\n",
       "      <td>1</td>\n",
       "      <td>1588</td>\n",
       "      <td>5653</td>\n",
       "      <td>1900</td>\n",
       "      <td>10</td>\n",
       "      <td>2017</td>\n",
       "    </tr>\n",
       "  </tbody>\n",
       "</table>\n",
       "</div>"
      ],
      "text/plain": [
       "    NEIGHBORHOOD                      BUILDING CLASS CATEGORY  \\\n",
       "0  ALPHABET CITY  08 RENTALS - ELEVATOR APARTMENTS              \n",
       "1  ALPHABET CITY  09 COOPS - WALKUP APARTMENTS                  \n",
       "2  ALPHABET CITY  22 STORE BUILDINGS                            \n",
       "3        CHELSEA  01 ONE FAMILY DWELLINGS                       \n",
       "4        CHELSEA  01 ONE FAMILY DWELLINGS                       \n",
       "\n",
       "   TAX CLASS AT PRESENT  BLOCK  LOT BUILDING CLASS AT PRESENT  \\\n",
       "0                     2    387  153                        D9   \n",
       "1                     2    376   14                        C6   \n",
       "2                     4    390   34                        K4   \n",
       "3                     1    771   52                        A9   \n",
       "4                     1    772   29                        A4   \n",
       "\n",
       "                  ADDRESS  ZIP CODE  RESIDENTIAL UNITS  COMMERCIAL UNITS  \\\n",
       "0     629 EAST 5TH STREET     10009                 24                 0   \n",
       "1     244 EAST 7TH STREET     10009                 24                 0   \n",
       "2            115 AVENUE C     10009                  0                 1   \n",
       "3  224 WEST 22ND   STREET     10011                  1                 0   \n",
       "4  231 WEST 22ND   STREET     10011                  1                 0   \n",
       "\n",
       "   TOTAL UNITS  LAND SQUARE FEET  GROSS SQUARE FEET  YEAR BUILT  SALE PRICE  \\\n",
       "0           24              4489              18523        1920    16232000   \n",
       "1           24              4131              16776        1928    11900000   \n",
       "2            1              1218               3586        1899     3700000   \n",
       "3            1              1975               3855        1901     7425000   \n",
       "4            1              1588               5653        1900          10   \n",
       "\n",
       "   year of sale  \n",
       "0          2016  \n",
       "1          2017  \n",
       "2          2016  \n",
       "3          2016  \n",
       "4          2017  "
      ]
     },
     "execution_count": 134,
     "metadata": {},
     "output_type": "execute_result"
    }
   ],
   "source": [
    "df.head(5)"
   ]
  },
  {
   "cell_type": "markdown",
   "metadata": {},
   "source": [
    "# Get dummy encoded columns for 'TAX CLASS AT PRESENT' predictor."
   ]
  },
  {
   "cell_type": "code",
   "execution_count": 135,
   "metadata": {},
   "outputs": [
    {
     "data": {
      "text/plain": [
       "array([2, 4, 1, 3], dtype=int64)"
      ]
     },
     "execution_count": 135,
     "metadata": {},
     "output_type": "execute_result"
    }
   ],
   "source": [
    "df['TAX CLASS AT PRESENT'].unique()"
   ]
  },
  {
   "cell_type": "code",
   "execution_count": 136,
   "metadata": {},
   "outputs": [],
   "source": [
    "#do not use inplace=True in the drop statement, if so get_dummies will fail  !\n",
    "df=pd.concat( [df.drop(['TAX CLASS AT PRESENT'], axis=1),pd.get_dummies(df['TAX CLASS AT PRESENT'] , prefix=\"TaxClassAtPresent\") ], axis=1)"
   ]
  },
  {
   "cell_type": "code",
   "execution_count": 137,
   "metadata": {},
   "outputs": [
    {
     "data": {
      "text/html": [
       "<div>\n",
       "<style scoped>\n",
       "    .dataframe tbody tr th:only-of-type {\n",
       "        vertical-align: middle;\n",
       "    }\n",
       "\n",
       "    .dataframe tbody tr th {\n",
       "        vertical-align: top;\n",
       "    }\n",
       "\n",
       "    .dataframe thead th {\n",
       "        text-align: right;\n",
       "    }\n",
       "</style>\n",
       "<table border=\"1\" class=\"dataframe\">\n",
       "  <thead>\n",
       "    <tr style=\"text-align: right;\">\n",
       "      <th></th>\n",
       "      <th>NEIGHBORHOOD</th>\n",
       "      <th>BUILDING CLASS CATEGORY</th>\n",
       "      <th>BLOCK</th>\n",
       "      <th>LOT</th>\n",
       "      <th>BUILDING CLASS AT PRESENT</th>\n",
       "      <th>ADDRESS</th>\n",
       "      <th>ZIP CODE</th>\n",
       "      <th>RESIDENTIAL UNITS</th>\n",
       "      <th>COMMERCIAL UNITS</th>\n",
       "      <th>TOTAL UNITS</th>\n",
       "      <th>LAND SQUARE FEET</th>\n",
       "      <th>GROSS SQUARE FEET</th>\n",
       "      <th>YEAR BUILT</th>\n",
       "      <th>SALE PRICE</th>\n",
       "      <th>year of sale</th>\n",
       "      <th>TaxClassAtPresent_1</th>\n",
       "      <th>TaxClassAtPresent_2</th>\n",
       "      <th>TaxClassAtPresent_3</th>\n",
       "      <th>TaxClassAtPresent_4</th>\n",
       "    </tr>\n",
       "  </thead>\n",
       "  <tbody>\n",
       "    <tr>\n",
       "      <th>0</th>\n",
       "      <td>ALPHABET CITY</td>\n",
       "      <td>08 RENTALS - ELEVATOR APARTMENTS</td>\n",
       "      <td>387</td>\n",
       "      <td>153</td>\n",
       "      <td>D9</td>\n",
       "      <td>629 EAST 5TH STREET</td>\n",
       "      <td>10009</td>\n",
       "      <td>24</td>\n",
       "      <td>0</td>\n",
       "      <td>24</td>\n",
       "      <td>4489</td>\n",
       "      <td>18523</td>\n",
       "      <td>1920</td>\n",
       "      <td>16232000</td>\n",
       "      <td>2016</td>\n",
       "      <td>0</td>\n",
       "      <td>1</td>\n",
       "      <td>0</td>\n",
       "      <td>0</td>\n",
       "    </tr>\n",
       "    <tr>\n",
       "      <th>1</th>\n",
       "      <td>ALPHABET CITY</td>\n",
       "      <td>09 COOPS - WALKUP APARTMENTS</td>\n",
       "      <td>376</td>\n",
       "      <td>14</td>\n",
       "      <td>C6</td>\n",
       "      <td>244 EAST 7TH STREET</td>\n",
       "      <td>10009</td>\n",
       "      <td>24</td>\n",
       "      <td>0</td>\n",
       "      <td>24</td>\n",
       "      <td>4131</td>\n",
       "      <td>16776</td>\n",
       "      <td>1928</td>\n",
       "      <td>11900000</td>\n",
       "      <td>2017</td>\n",
       "      <td>0</td>\n",
       "      <td>1</td>\n",
       "      <td>0</td>\n",
       "      <td>0</td>\n",
       "    </tr>\n",
       "    <tr>\n",
       "      <th>2</th>\n",
       "      <td>ALPHABET CITY</td>\n",
       "      <td>22 STORE BUILDINGS</td>\n",
       "      <td>390</td>\n",
       "      <td>34</td>\n",
       "      <td>K4</td>\n",
       "      <td>115 AVENUE C</td>\n",
       "      <td>10009</td>\n",
       "      <td>0</td>\n",
       "      <td>1</td>\n",
       "      <td>1</td>\n",
       "      <td>1218</td>\n",
       "      <td>3586</td>\n",
       "      <td>1899</td>\n",
       "      <td>3700000</td>\n",
       "      <td>2016</td>\n",
       "      <td>0</td>\n",
       "      <td>0</td>\n",
       "      <td>0</td>\n",
       "      <td>1</td>\n",
       "    </tr>\n",
       "    <tr>\n",
       "      <th>3</th>\n",
       "      <td>CHELSEA</td>\n",
       "      <td>01 ONE FAMILY DWELLINGS</td>\n",
       "      <td>771</td>\n",
       "      <td>52</td>\n",
       "      <td>A9</td>\n",
       "      <td>224 WEST 22ND   STREET</td>\n",
       "      <td>10011</td>\n",
       "      <td>1</td>\n",
       "      <td>0</td>\n",
       "      <td>1</td>\n",
       "      <td>1975</td>\n",
       "      <td>3855</td>\n",
       "      <td>1901</td>\n",
       "      <td>7425000</td>\n",
       "      <td>2016</td>\n",
       "      <td>1</td>\n",
       "      <td>0</td>\n",
       "      <td>0</td>\n",
       "      <td>0</td>\n",
       "    </tr>\n",
       "    <tr>\n",
       "      <th>4</th>\n",
       "      <td>CHELSEA</td>\n",
       "      <td>01 ONE FAMILY DWELLINGS</td>\n",
       "      <td>772</td>\n",
       "      <td>29</td>\n",
       "      <td>A4</td>\n",
       "      <td>231 WEST 22ND   STREET</td>\n",
       "      <td>10011</td>\n",
       "      <td>1</td>\n",
       "      <td>0</td>\n",
       "      <td>1</td>\n",
       "      <td>1588</td>\n",
       "      <td>5653</td>\n",
       "      <td>1900</td>\n",
       "      <td>10</td>\n",
       "      <td>2017</td>\n",
       "      <td>1</td>\n",
       "      <td>0</td>\n",
       "      <td>0</td>\n",
       "      <td>0</td>\n",
       "    </tr>\n",
       "  </tbody>\n",
       "</table>\n",
       "</div>"
      ],
      "text/plain": [
       "    NEIGHBORHOOD                      BUILDING CLASS CATEGORY  BLOCK  LOT  \\\n",
       "0  ALPHABET CITY  08 RENTALS - ELEVATOR APARTMENTS               387  153   \n",
       "1  ALPHABET CITY  09 COOPS - WALKUP APARTMENTS                   376   14   \n",
       "2  ALPHABET CITY  22 STORE BUILDINGS                             390   34   \n",
       "3        CHELSEA  01 ONE FAMILY DWELLINGS                        771   52   \n",
       "4        CHELSEA  01 ONE FAMILY DWELLINGS                        772   29   \n",
       "\n",
       "  BUILDING CLASS AT PRESENT                 ADDRESS  ZIP CODE  \\\n",
       "0                        D9     629 EAST 5TH STREET     10009   \n",
       "1                        C6     244 EAST 7TH STREET     10009   \n",
       "2                        K4            115 AVENUE C     10009   \n",
       "3                        A9  224 WEST 22ND   STREET     10011   \n",
       "4                        A4  231 WEST 22ND   STREET     10011   \n",
       "\n",
       "   RESIDENTIAL UNITS  COMMERCIAL UNITS  TOTAL UNITS  LAND SQUARE FEET  \\\n",
       "0                 24                 0           24              4489   \n",
       "1                 24                 0           24              4131   \n",
       "2                  0                 1            1              1218   \n",
       "3                  1                 0            1              1975   \n",
       "4                  1                 0            1              1588   \n",
       "\n",
       "   GROSS SQUARE FEET  YEAR BUILT  SALE PRICE  year of sale  \\\n",
       "0              18523        1920    16232000          2016   \n",
       "1              16776        1928    11900000          2017   \n",
       "2               3586        1899     3700000          2016   \n",
       "3               3855        1901     7425000          2016   \n",
       "4               5653        1900          10          2017   \n",
       "\n",
       "   TaxClassAtPresent_1  TaxClassAtPresent_2  TaxClassAtPresent_3  \\\n",
       "0                    0                    1                    0   \n",
       "1                    0                    1                    0   \n",
       "2                    0                    0                    0   \n",
       "3                    1                    0                    0   \n",
       "4                    1                    0                    0   \n",
       "\n",
       "   TaxClassAtPresent_4  \n",
       "0                    0  \n",
       "1                    0  \n",
       "2                    1  \n",
       "3                    0  \n",
       "4                    0  "
      ]
     },
     "execution_count": 137,
     "metadata": {},
     "output_type": "execute_result"
    }
   ],
   "source": [
    "df.head(5)"
   ]
  },
  {
   "cell_type": "markdown",
   "metadata": {},
   "source": [
    "# Part 2: Hypothesis Testing"
   ]
  },
  {
   "cell_type": "code",
   "execution_count": 138,
   "metadata": {},
   "outputs": [],
   "source": [
    "gs=pd.read_csv(r\"D:\\gestational_study.csv\")"
   ]
  },
  {
   "cell_type": "code",
   "execution_count": 139,
   "metadata": {},
   "outputs": [
    {
     "data": {
      "text/plain": [
       "(17, 3)"
      ]
     },
     "execution_count": 139,
     "metadata": {},
     "output_type": "execute_result"
    }
   ],
   "source": [
    "gs.shape #less than 30 samples !"
   ]
  },
  {
   "cell_type": "code",
   "execution_count": 140,
   "metadata": {},
   "outputs": [
    {
     "data": {
      "text/html": [
       "<div>\n",
       "<style scoped>\n",
       "    .dataframe tbody tr th:only-of-type {\n",
       "        vertical-align: middle;\n",
       "    }\n",
       "\n",
       "    .dataframe tbody tr th {\n",
       "        vertical-align: top;\n",
       "    }\n",
       "\n",
       "    .dataframe thead th {\n",
       "        text-align: right;\n",
       "    }\n",
       "</style>\n",
       "<table border=\"1\" class=\"dataframe\">\n",
       "  <thead>\n",
       "    <tr style=\"text-align: right;\">\n",
       "      <th></th>\n",
       "      <th>Infant_id</th>\n",
       "      <th>Gestational_Age</th>\n",
       "      <th>Birth_Weight</th>\n",
       "    </tr>\n",
       "  </thead>\n",
       "  <tbody>\n",
       "    <tr>\n",
       "      <th>0</th>\n",
       "      <td>1</td>\n",
       "      <td>35.00</td>\n",
       "      <td>1895</td>\n",
       "    </tr>\n",
       "    <tr>\n",
       "      <th>1</th>\n",
       "      <td>2</td>\n",
       "      <td>36.00</td>\n",
       "      <td>2030</td>\n",
       "    </tr>\n",
       "    <tr>\n",
       "      <th>2</th>\n",
       "      <td>3</td>\n",
       "      <td>29.00</td>\n",
       "      <td>1440</td>\n",
       "    </tr>\n",
       "    <tr>\n",
       "      <th>3</th>\n",
       "      <td>4</td>\n",
       "      <td>40.00</td>\n",
       "      <td>2835</td>\n",
       "    </tr>\n",
       "    <tr>\n",
       "      <th>4</th>\n",
       "      <td>5</td>\n",
       "      <td>36.00</td>\n",
       "      <td>3090</td>\n",
       "    </tr>\n",
       "  </tbody>\n",
       "</table>\n",
       "</div>"
      ],
      "text/plain": [
       "   Infant_id      Gestational_Age  Birth_Weight\n",
       "0          1                35.00          1895\n",
       "1          2                36.00          2030\n",
       "2          3                29.00          1440\n",
       "3          4                40.00          2835\n",
       "4          5                36.00          3090"
      ]
     },
     "execution_count": 140,
     "metadata": {},
     "output_type": "execute_result"
    }
   ],
   "source": [
    "gs.head(5)"
   ]
  },
  {
   "cell_type": "code",
   "execution_count": 141,
   "metadata": {},
   "outputs": [
    {
     "data": {
      "text/plain": [
       "Index(['Infant_id', 'Gestational_Age', 'Birth_Weight'], dtype='object')"
      ]
     },
     "execution_count": 141,
     "metadata": {},
     "output_type": "execute_result"
    }
   ],
   "source": [
    "gs.columns"
   ]
  },
  {
   "cell_type": "markdown",
   "metadata": {},
   "source": [
    "# Calculate the correlation between Gestational Age and Birth Weight (use the corr() function in Pandas to calculate the correlation)."
   ]
  },
  {
   "cell_type": "code",
   "execution_count": 142,
   "metadata": {},
   "outputs": [],
   "source": [
    "#import matplotlib\n",
    "import matplotlib.pyplot as plt\n",
    "#%matplotlib inline\n",
    "#matplotlib.style.use('seaborn')\n",
    "import seaborn as sns"
   ]
  },
  {
   "cell_type": "code",
   "execution_count": 143,
   "metadata": {},
   "outputs": [
    {
     "data": {
      "text/html": [
       "<div>\n",
       "<style scoped>\n",
       "    .dataframe tbody tr th:only-of-type {\n",
       "        vertical-align: middle;\n",
       "    }\n",
       "\n",
       "    .dataframe tbody tr th {\n",
       "        vertical-align: top;\n",
       "    }\n",
       "\n",
       "    .dataframe thead th {\n",
       "        text-align: right;\n",
       "    }\n",
       "</style>\n",
       "<table border=\"1\" class=\"dataframe\">\n",
       "  <thead>\n",
       "    <tr style=\"text-align: right;\">\n",
       "      <th></th>\n",
       "      <th>Gestational_Age</th>\n",
       "      <th>Birth_Weight</th>\n",
       "    </tr>\n",
       "  </thead>\n",
       "  <tbody>\n",
       "    <tr>\n",
       "      <th>Gestational_Age</th>\n",
       "      <td>1.00</td>\n",
       "      <td>0.82</td>\n",
       "    </tr>\n",
       "    <tr>\n",
       "      <th>Birth_Weight</th>\n",
       "      <td>0.82</td>\n",
       "      <td>1.00</td>\n",
       "    </tr>\n",
       "  </tbody>\n",
       "</table>\n",
       "</div>"
      ],
      "text/plain": [
       "                     Gestational_Age         Birth_Weight\n",
       "Gestational_Age                 1.00                 0.82\n",
       "Birth_Weight                    0.82                 1.00"
      ]
     },
     "execution_count": 143,
     "metadata": {},
     "output_type": "execute_result"
    }
   ],
   "source": [
    "gs[['Gestational_Age','Birth_Weight']].corr()"
   ]
  },
  {
   "cell_type": "markdown",
   "metadata": {},
   "source": [
    "Answer - highly +ve correlation ~1.0"
   ]
  },
  {
   "cell_type": "markdown",
   "metadata": {},
   "source": [
    "# Generate a scatter plot to visualize the relationships between these two variables. "
   ]
  },
  {
   "cell_type": "code",
   "execution_count": 145,
   "metadata": {
    "scrolled": true
   },
   "outputs": [
    {
     "data": {
      "image/png": "[encoded data removed]",
      "text/plain": [
       "<Figure size 432x288 with 1 Axes>"
      ]
     },
     "metadata": {},
     "output_type": "display_data"
    }
   ],
   "source": [
    "plt.scatter(gs['Gestational_Age'],gs['Birth_Weight'])\n",
    "plt.xlabel('Gestational_Age (weeks)')\n",
    "plt.ylabel('Birth_Weight (gms)')\n",
    "plt.show()"
   ]
  },
  {
   "cell_type": "markdown",
   "metadata": {},
   "source": [
    "When Gestational_Age (weeks) increased there was an increase in Birth_Weight (gms)"
   ]
  },
  {
   "cell_type": "code",
   "execution_count": 25,
   "metadata": {},
   "outputs": [],
   "source": [
    "from scipy import stats\n",
    "#slope, intercept, r_value, p_value, slope_std_error = stats.linregress(gs['Gestational_Age'],gs['Birth_Weight'])"
   ]
  },
  {
   "cell_type": "code",
   "execution_count": 146,
   "metadata": {},
   "outputs": [
    {
     "data": {
      "image/png": "[encoded data removed]",
      "text/plain": [
       "<Figure size 432x288 with 1 Axes>"
      ]
     },
     "metadata": {},
     "output_type": "display_data"
    }
   ],
   "source": [
    "mysns=sns.regplot(x=gs['Gestational_Age'],y=gs['Birth_Weight'])"
   ]
  },
  {
   "cell_type": "markdown",
   "metadata": {},
   "source": [
    "# Does the scatter plot confirm the correlation value you calculated? Does there seem to be a strong correlation between the two predictors?"
   ]
  },
  {
   "cell_type": "markdown",
   "metadata": {},
   "source": [
    "Yes , there is a strong ~1 positive correlation between the 2 variables.\n",
    "When Gestational_Age (weeks) increased there was an increase in Birth_Weight (gms).\n",
    "But Correlation does not imply causation. Correlation just measures the strength of linear relationship"
   ]
  },
  {
   "cell_type": "markdown",
   "metadata": {},
   "source": [
    "# Perform a hypothesis test and state the confidence level at which you can confirm a correlation between the two variables (use the scipy.stats.pearsonr() function"
   ]
  },
  {
   "cell_type": "markdown",
   "metadata": {},
   "source": [
    "The Pearson correlation coefficient measures the linear relationship between two datasets. \n",
    "\n",
    "Strictly speaking, Pearson’s correlation requires that each dataset be normally distributed, and not necessarily zero-mean. \n",
    "\n",
    "Like other correlation coefficients, this one varies between -1 and +1 with 0 implying no correlation. Correlations of -1 or +1 imply an exact linear relationship. Positive correlations imply that as x increases, so does y. Negative correlations imply that as x increases, y decreases.\n",
    "\n",
    "The p-value roughly indicates the probability of an uncorrelated system producing datasets that have a Pearson correlation at least as extreme as the one computed from these datasets. \n",
    "\n",
    "The p-values are not entirely reliable but are probably reasonable for datasets larger than 500 or so.\n",
    "\n",
    "Returns:\n",
    "r : float\n",
    "    Pearson's correlation coefficient\n",
    "p-value : float\n",
    "    2-tailed p-value"
   ]
  },
  {
   "cell_type": "code",
   "execution_count": 147,
   "metadata": {},
   "outputs": [],
   "source": [
    "from scipy.stats import pearsonr"
   ]
  },
  {
   "cell_type": "code",
   "execution_count": 148,
   "metadata": {},
   "outputs": [],
   "source": [
    "r_ceoff,pval=pearsonr(gs['Gestational_Age'],gs['Birth_Weight'])"
   ]
  },
  {
   "cell_type": "code",
   "execution_count": 151,
   "metadata": {},
   "outputs": [
    {
     "name": "stdout",
     "output_type": "stream",
     "text": [
      "Coeff of Correlation:  0.8197828031536366\n"
     ]
    }
   ],
   "source": [
    "print(\"Coeff of Correlation: \", r_ceoff)"
   ]
  },
  {
   "cell_type": "code",
   "execution_count": 154,
   "metadata": {},
   "outputs": [
    {
     "name": "stdout",
     "output_type": "stream",
     "text": [
      "Probability of Random-Chance 5.6210785283336966e-05  or  0.0001\n"
     ]
    }
   ],
   "source": [
    "print(\"Probability of Random-Chance\",pval,\" or \" , round(pval ,4))"
   ]
  },
  {
   "cell_type": "markdown",
   "metadata": {},
   "source": [
    "Suppose,\n",
    "\n",
    "Null Hypothesis H0 is that there is no relation between Gestational Age and Birth Weight. What we observe is just due to random chance.\n",
    "\n",
    "Alternate hypothesis Ha will state that there is a relation between Gestational Age and Birth Weight.\n",
    "\n",
    "If our significance level is 0.05 (5%) , then p-value is lesser than 0.05 at 0.0001 which means we reject the H0 and state with 95% confidence that there is a significant relationship between Gestational Age and Birth Weight."
   ]
  },
  {
   "cell_type": "markdown",
   "metadata": {},
   "source": [
    "# Thank you !"
   ]
  }
 ],
 "metadata": {
  "kernelspec": {
   "display_name": "Python 3",
   "language": "python",
   "name": "python3"
  },
  "language_info": {
   "codemirror_mode": {
    "name": "ipython",
    "version": 3
   },
   "file_extension": ".py",
   "mimetype": "text/x-python",
   "name": "python",
   "nbconvert_exporter": "python",
   "pygments_lexer": "ipython3",
   "version": "3.6.5"
  }
 },
 "nbformat": 4,
 "nbformat_minor": 2
}
